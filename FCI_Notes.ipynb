{
 "cells": [
  {
   "cell_type": "markdown",
   "id": "a6c1868f",
   "metadata": {},
   "source": [
    "# Notes on FCI\n",
    "\n",
    "- Assumes that data are locally isotropic, or rather that given any point on the manifold, the distribution of data looks directionally uniform. Take a 2-Sphere, even though it has to be in at least 3-D space, it would still only show local distributions of data along two orthogonal directions. \n",
    "    - What are examples of data that are not locally isotropic? Can this be created through the union of two manifolds? \n",
    "\n",
    "\n",
    "Correlation Integral (ChatGPT 4o) -- Proportion of point pairs that are within $r$ of each other.\n",
    "Correlation Dimension (ChatGPT 4o) -- \n",
    "\n",
    "Two major steps in the procedure:\n",
    "1. Find the mean of the data, translate the data so that it is centered around the origin, normalize each sample.\n",
    "2. Run"
   ]
  },
  {
   "cell_type": "code",
   "execution_count": 1,
   "id": "6a5682e8",
   "metadata": {},
   "outputs": [],
   "source": [
    "import pyFCI"
   ]
  },
  {
   "cell_type": "code",
   "execution_count": null,
   "id": "c74d51d0",
   "metadata": {},
   "outputs": [],
   "source": []
  }
 ],
 "metadata": {
  "kernelspec": {
   "display_name": "Python 3 (ipykernel)",
   "language": "python",
   "name": "python3"
  },
  "language_info": {
   "codemirror_mode": {
    "name": "ipython",
    "version": 3
   },
   "file_extension": ".py",
   "mimetype": "text/x-python",
   "name": "python",
   "nbconvert_exporter": "python",
   "pygments_lexer": "ipython3",
   "version": "3.11.5"
  }
 },
 "nbformat": 4,
 "nbformat_minor": 5
}
